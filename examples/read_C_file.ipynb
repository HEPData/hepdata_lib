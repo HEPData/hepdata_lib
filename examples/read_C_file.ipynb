{
 "cells": [
  {
   "cell_type": "code",
   "execution_count": 10,
   "metadata": {},
   "outputs": [],
   "source": [
    "import hepdata_lib\n",
    "import ROOT"
   ]
  },
  {
   "cell_type": "code",
   "execution_count": 11,
   "metadata": {
    "scrolled": true
   },
   "outputs": [],
   "source": [
    "from hepdata_lib.cfilereader import CFileReader\n",
    "c_file = \"example_inputs/brazilianFlag_BulkZZ_VVnew_new_combined_13TeV.C\"\n",
    "reader = CFileReader(c_file)\n",
    "graphs = reader.get_graphs()"
   ]
  },
  {
   "cell_type": "code",
   "execution_count": 12,
   "metadata": {},
   "outputs": [],
   "source": [
    "from hepdata_lib import Submission\n",
    "submission = Submission()"
   ]
  },
  {
   "cell_type": "code",
   "execution_count": 13,
   "metadata": {},
   "outputs": [
    {
     "data": {
      "text/plain": [
       "['\"Graph0\"', '\"BulkZZ_grshade\"', '\"Graph1\"']"
      ]
     },
     "execution_count": 13,
     "metadata": {},
     "output_type": "execute_result"
    }
   ],
   "source": [
    "list(graphs.keys())"
   ]
  },
  {
   "cell_type": "code",
   "execution_count": 14,
   "metadata": {},
   "outputs": [],
   "source": [
    "from hepdata_lib import Table\n",
    "table = Table(\"TGraphs\")"
   ]
  },
  {
   "cell_type": "code",
   "execution_count": 15,
   "metadata": {},
   "outputs": [],
   "source": [
    "from hepdata_lib import Variable\n",
    "d = Variable(\"x\", is_independent=True, is_binned=False, units=\"GeV\")\n",
    "d.values = graphs['\"Graph0\"']['x']\n",
    "n = Variable(\"y\", is_independent=False, is_binned=False, units=\"pb\")\n",
    "n.values = graphs['\"Graph0\"']['x']\n",
    "\n",
    "#e = Variable(\"x\", is_independent=True, is_binned=False, units=\"pb\")\n",
    "#e.values = graphs['\"Graph1\"']['x']\n",
    "#b = Variable(\"y\", is_independent=False, is_binned=False, units=\"GeV\")\n",
    "#b.values = graphs['\"Graph1\"']['y']\n",
    "\n",
    "#s = Variable(\"x\", is_independent=True, is_binned=False, units=\"pb\")\n",
    "#s.values = graphs['\"BulkZZ_grshade\"']['x']\n",
    "#f = Variable(\"y\", is_independent=True, is_binned=False, units=\"GeV\")\n",
    "#f.values = graphs['\"BulkZZ_grshade\"']['y']\n"
   ]
  },
  {
   "cell_type": "code",
   "execution_count": 19,
   "metadata": {},
   "outputs": [],
   "source": [
    "table.add_variable(d)\n",
    "table.add_variable(n)\n",
    "#table.add_variable(e)\n",
    "#table.add_variable(b)\n",
    "#table.add_variable(s)\n",
    "#table.add_variable(f)\n",
    "submission.add_table(table)\n",
    "submission.create_files(\"example_output\")"
   ]
  },
  {
   "cell_type": "code",
   "execution_count": 20,
   "metadata": {},
   "outputs": [
    {
     "name": "stdout",
     "output_type": "stream",
     "text": [
      "additional_figure_1.yaml\t submission.yaml\r\n",
      "CMS-B2G-17-009_Figure_004-a.png  tgraphs.yaml\r\n",
      "Figure_006-a.png\t\t thumb_CMS-B2G-17-009_Figure_004-a.png\r\n",
      "figure_4a.yaml\t\t\t thumb_Figure_006-a.png\r\n",
      "figure_6a.yaml\t\t\t thumb_signalEffVsMass.png\r\n",
      "signalEffVsMass.png\r\n"
     ]
    }
   ],
   "source": [
    "!ls example_output"
   ]
  },
  {
   "cell_type": "code",
   "execution_count": 21,
   "metadata": {},
   "outputs": [
    {
     "name": "stdout",
     "output_type": "stream",
     "text": [
      "dependent_variables:\r\n",
      "- header:\r\n",
      "    name: y\r\n",
      "    units: pb\r\n",
      "  values:\r\n",
      "  - value: 1.2\r\n",
      "  - value: 1.3\r\n",
      "  - value: 1.4\r\n",
      "  - value: 1.5\r\n",
      "  - value: 1.6\r\n"
     ]
    }
   ],
   "source": [
    "!head example_output/tgraphs.yaml"
   ]
  },
  {
   "cell_type": "code",
   "execution_count": null,
   "metadata": {},
   "outputs": [],
   "source": []
  }
 ],
 "metadata": {
  "kernelspec": {
   "display_name": "Python 3",
   "language": "python",
   "name": "python3"
  },
  "language_info": {
   "codemirror_mode": {
    "name": "ipython",
    "version": 2
   },
   "file_extension": ".py",
   "mimetype": "text/x-python",
   "name": "python",
   "nbconvert_exporter": "python",
   "pygments_lexer": "ipython2",
   "version": "2.7.16"
  }
 },
 "nbformat": 4,
 "nbformat_minor": 2
}
