{
 "cells": [
  {
   "cell_type": "code",
   "execution_count": 1,
   "metadata": {},
   "outputs": [
    {
     "name": "stdout",
     "output_type": "stream",
     "text": [
      "Welcome to JupyROOT 6.20/02\n"
     ]
    }
   ],
   "source": [
    "import hepdata_lib\n",
    "import ROOT\n",
    "from array import array\n",
    "import numpy as np\n",
    "from ROOT import TGraph\n",
    "import hepdata_lib.root_utils as ru"
   ]
  },
  {
   "cell_type": "code",
   "execution_count": 2,
   "metadata": {},
   "outputs": [],
   "source": [
    "from hepdata_lib import Submission\n",
    "submission = Submission()"
   ]
  },
  {
   "cell_type": "code",
   "execution_count": 3,
   "metadata": {
    "scrolled": true
   },
   "outputs": [
    {
     "name": "stderr",
     "output_type": "stream",
     "text": [
      "/home/tuomas/anaconda2/lib/python2.7/site-packages/hepdata_lib/root_utils.py:412: FutureWarning: ROOT.Double is deprecated and will disappear in a future version of ROOT. Instead, use ctypes.c_double for pass-by-ref of doubles\n",
      "  graph.GetPoint(i, x_val, y_val)\n"
     ]
    }
   ],
   "source": [
    "from hepdata_lib.c_file_reader import CFileReader\n",
    "c_file = \"example_inputs/brazilianFlag_BulkZZ_VVnew_new_combined_13TeV.C\"\n",
    "reader = CFileReader(c_file)\n",
    "graphs = reader.get_graphs()"
   ]
  },
  {
   "cell_type": "code",
   "execution_count": 4,
   "metadata": {},
   "outputs": [
    {
     "data": {
      "text/plain": [
       "['BulkZZ_grshade', 'Graph0', 'Graph1']"
      ]
     },
     "execution_count": 4,
     "metadata": {},
     "output_type": "execute_result"
    }
   ],
   "source": [
    "list(graphs.keys())"
   ]
  },
  {
   "cell_type": "code",
   "execution_count": 5,
   "metadata": {},
   "outputs": [],
   "source": [
    "from hepdata_lib import Table\n",
    "table = Table(\"TGraphs\")"
   ]
  },
  {
   "cell_type": "code",
   "execution_count": 7,
   "metadata": {},
   "outputs": [],
   "source": [
    "from hepdata_lib import Variable\n",
    "d = Variable(\"x\", is_independent=True, is_binned=False, units=\"GeV\")\n",
    "d.values = graphs[\"Graph0\"]['x']\n",
    "n = Variable(\"y\", is_independent=False, is_binned=False, units=\"pb\")\n",
    "n.values = graphs[\"Graph0\"]['x']"
   ]
  },
  {
   "cell_type": "code",
   "execution_count": 8,
   "metadata": {},
   "outputs": [],
   "source": [
    "table.add_variable(d)\n",
    "table.add_variable(n)\n",
    "submission.add_table(table)\n",
    "submission.create_files(\"example_output\")"
   ]
  },
  {
   "cell_type": "code",
   "execution_count": 9,
   "metadata": {},
   "outputs": [
    {
     "name": "stdout",
     "output_type": "stream",
     "text": [
      "additional_figure_1.yaml\t submission.yaml\r\n",
      "CMS-B2G-17-009_Figure_004-a.png  tgraphs.yaml\r\n",
      "Figure_006-a.png\t\t thumb_CMS-B2G-17-009_Figure_004-a.png\r\n",
      "figure_4a.yaml\t\t\t thumb_Figure_006-a.png\r\n",
      "figure_6a.yaml\t\t\t thumb_signalEffVsMass.png\r\n",
      "signalEffVsMass.png\r\n"
     ]
    }
   ],
   "source": [
    "!ls example_output"
   ]
  },
  {
   "cell_type": "code",
   "execution_count": 10,
   "metadata": {},
   "outputs": [
    {
     "name": "stdout",
     "output_type": "stream",
     "text": [
      "dependent_variables:\r\n",
      "- header:\r\n",
      "    name: y\r\n",
      "    units: pb\r\n",
      "  values:\r\n",
      "  - value: 1.2\r\n",
      "  - value: 1.3\r\n",
      "  - value: 1.4\r\n",
      "  - value: 1.5\r\n",
      "  - value: 1.6\r\n"
     ]
    }
   ],
   "source": [
    "!head example_output/tgraphs.yaml"
   ]
  },
  {
   "cell_type": "code",
   "execution_count": null,
   "metadata": {},
   "outputs": [],
   "source": []
  }
 ],
 "metadata": {
  "kernelspec": {
   "display_name": "Python 3",
   "language": "python",
   "name": "python3"
  },
  "language_info": {
   "codemirror_mode": {
    "name": "ipython",
    "version": 2
   },
   "file_extension": ".py",
   "mimetype": "text/x-python",
   "name": "python",
   "nbconvert_exporter": "python",
   "pygments_lexer": "ipython2",
   "version": "2.7.16"
  }
 },
 "nbformat": 4,
 "nbformat_minor": 2
}
