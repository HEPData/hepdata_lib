{
 "cells": [
  {
   "cell_type": "markdown",
   "metadata": {},
   "source": [
    "# Notebook for reading TGraphs from '.C' files\n",
    "\n",
    "With this notebook you can read TGraphs from '.C' files. As explained in the \"Getting started\" notebook, a `Submission` needs to exist or be created."
   ]
  },
  {
   "cell_type": "code",
   "execution_count": 1,
   "metadata": {},
   "outputs": [
    {
     "name": "stdout",
     "output_type": "stream",
     "text": [
      "Welcome to JupyROOT 6.20/04\n"
     ]
    }
   ],
   "source": [
    "from hepdata_lib import Submission\n",
    "submission = Submission()"
   ]
  },
  {
   "cell_type": "code",
   "execution_count": 2,
   "metadata": {},
   "outputs": [],
   "source": [
    "from hepdata_lib import Table\n",
    "table = Table(\"MyLimit\")\n",
    "table.description = \"Here is the description.\""
   ]
  },
  {
   "cell_type": "markdown",
   "metadata": {},
   "source": [
    "Here we import the `CFileReader` class from `hepdata_lib` and read a '.C' file."
   ]
  },
  {
   "cell_type": "code",
   "execution_count": 3,
   "metadata": {
    "scrolled": false
   },
   "outputs": [
    {
     "name": "stderr",
     "output_type": "stream",
     "text": [
      "/Users/clange/hepdata_lib/hepdata_lib/root_utils.py:412: FutureWarning: ROOT.Double is deprecated and will disappear in a future version of ROOT. Instead, use ctypes.c_double for pass-by-ref of doubles\n",
      "  graph.GetPoint(i, x_val, y_val)\n"
     ]
    }
   ],
   "source": [
    "from hepdata_lib.c_file_reader import CFileReader\n",
    "c_file = \"example_inputs/brazilianFlag_BulkZZ_VVnew_new_combined_13TeV.C\"\n",
    "reader = CFileReader(c_file)\n",
    "graphs = reader.get_graphs()"
   ]
  },
  {
   "cell_type": "markdown",
   "metadata": {},
   "source": [
    "Once you have read the '.C' file, you can list the included graphs with the following command:"
   ]
  },
  {
   "cell_type": "code",
   "execution_count": 4,
   "metadata": {},
   "outputs": [
    {
     "data": {
      "text/plain": [
       "['Graph0', 'Graph1', 'BulkZZ_grshade', 'Graph2', 'Graph3', 'BulkZZ_gtheory']"
      ]
     },
     "execution_count": 4,
     "metadata": {},
     "output_type": "execute_result"
    }
   ],
   "source": [
    "list(graphs.keys())"
   ]
  },
  {
   "cell_type": "markdown",
   "metadata": {},
   "source": [
    "`CFileReader` lists all `TGraphs` as a dictionary. You can access the included values by opening individual dictionaries and choosing the variable you want."
   ]
  },
  {
   "cell_type": "code",
   "execution_count": 5,
   "metadata": {},
   "outputs": [],
   "source": [
    "from hepdata_lib import Variable, Uncertainty\n",
    "d = Variable(\"Bulk graviton mass\", is_independent=True, is_binned=False, units=\"GeV\")\n",
    "d.values = graphs[\"Graph0\"]['x'][:30]\n",
    "\n",
    "obs = Variable(\"BulkZZ\", is_independent=False, is_binned=False, units=\"pb\")\n",
    "obs.values = graphs[\"Graph2\"]['y'][:30]\n",
    "obs.add_qualifier(\"Limit\", \"Observed\")\n",
    "obs.add_qualifier(\"SQRT(S)\", 13, \"TeV\")\n",
    "obs.add_qualifier(\"LUMINOSITY\", 35.9, \"fb$^{-1}$\")\n",
    "\n",
    "exp = Variable(\"BulkZZ\", is_independent=False, is_binned=False, units=\"pb\")\n",
    "exp.values = graphs[\"Graph3\"]['y'][:30]\n",
    "exp.add_qualifier(\"Limit\", \"Expected\")\n",
    "exp.add_qualifier(\"SQRT(S)\", 13, \"TeV\")\n",
    "exp.add_qualifier(\"LUMINOSITY\", 35.9, \"fb$^{-1}$\")\n",
    "\n",
    "#+/- 1 sigma\n",
    "unc_1s = Uncertainty(\"1 s.d.\", is_symmetric=False)\n",
    "unc_1s.set_values_from_intervals(zip(graphs[\"Graph1\"]['y'][:30], graphs[\"Graph1\"]['y'][::-1][:30]), nominal=exp.values)\n",
    "exp.add_uncertainty(unc_1s)\n",
    "\n",
    "# +/- 2 sigma\n",
    "unc_2s = Uncertainty(\"2 s.d.\", is_symmetric=False)\n",
    "unc_2s.set_values_from_intervals(zip(graphs[\"Graph0\"]['y'][:30], graphs[\"Graph0\"]['y'][::-1][:30]), nominal=exp.values)\n",
    "exp.add_uncertainty(unc_2s)"
   ]
  },
  {
   "cell_type": "markdown",
   "metadata": {},
   "source": [
    "All that needs to be done is to add the variables to the `Table`, the `Table` to the `Submission`, and then run the command to create the output files. Again, please refer to the 'Getting started' notebook for a complete example."
   ]
  },
  {
   "cell_type": "code",
   "execution_count": 6,
   "metadata": {},
   "outputs": [],
   "source": [
    "table.add_variable(d)\n",
    "table.add_variable(obs)\n",
    "table.add_variable(exp)\n",
    "submission.add_table(table)\n",
    "submission.create_files(\"example_output\")"
   ]
  },
  {
   "cell_type": "code",
   "execution_count": 7,
   "metadata": {},
   "outputs": [
    {
     "name": "stdout",
     "output_type": "stream",
     "text": [
      "mylimit.yaml    submission.yaml\r\n"
     ]
    }
   ],
   "source": [
    "!ls example_output"
   ]
  },
  {
   "cell_type": "code",
   "execution_count": 8,
   "metadata": {},
   "outputs": [
    {
     "name": "stdout",
     "output_type": "stream",
     "text": [
      "dependent_variables:\r\n",
      "- header:\r\n",
      "    name: BulkZZ\r\n",
      "    units: pb\r\n",
      "  qualifiers:\r\n",
      "  - name: Limit\r\n",
      "    value: Observed\r\n",
      "  - name: SQRT(S)\r\n",
      "    units: TeV\r\n",
      "    value: 13\r\n",
      "  - name: LUMINOSITY\r\n",
      "    units: fb$^{-1}$\r\n",
      "    value: 35.9\r\n",
      "  values:\r\n",
      "  - value: 0.033069\r\n",
      "  - value: 0.023478\r\n",
      "  - value: 0.017733\r\n",
      "  - value: 0.013937\r\n",
      "  - value: 0.01084\r\n",
      "  - value: 0.0086169\r\n",
      "  - value: 0.0069185\r\n",
      "  - value: 0.0056197\r\n",
      "  - value: 0.0046831\r\n",
      "  - value: 0.0039838\r\n",
      "  - value: 0.0034093\r\n",
      "  - value: 0.0030346\r\n",
      "  - value: 0.0027099\r\n",
      "  - value: 0.0024539\r\n",
      "  - value: 0.0022541\r\n",
      "  - value: 0.0020543\r\n"
     ]
    }
   ],
   "source": [
    "!head -n 30 example_output/mylimit.yaml"
   ]
  },
  {
   "cell_type": "code",
   "execution_count": null,
   "metadata": {},
   "outputs": [],
   "source": []
  }
 ],
 "metadata": {
  "kernelspec": {
   "display_name": "Python 3",
   "language": "python",
   "name": "python3"
  },
  "language_info": {
   "codemirror_mode": {
    "name": "ipython",
    "version": 3
   },
   "file_extension": ".py",
   "mimetype": "text/x-python",
   "name": "python",
   "nbconvert_exporter": "python",
   "pygments_lexer": "ipython3",
   "version": "3.8.2"
  }
 },
 "nbformat": 4,
 "nbformat_minor": 2
}
