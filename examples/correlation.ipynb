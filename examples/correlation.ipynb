{
 "cells": [
  {
   "cell_type": "markdown",
   "metadata": {},
   "source": [
    "# Example for reading a correlation matrix\n",
    "\n",
    "This example illustrates how to include a correlation matrix in your HEPData entry. "
   ]
  },
  {
   "cell_type": "markdown",
   "metadata": {},
   "source": [
    "## Creating example input data\n",
    "First, we create an example input. You can safely skip reading this part of the code in detail. Just have a look at the plot below to see what the input data looks like so that you can later check it agrees with what you see in HEPData.\n",
    "\n",
    "The input is a two-dimensional ROOT histogram containing the correlation coefficients between a number of signal region bins. The histogram is saved into a ROOT file, which we will subsequently read using the tools provided in `hepdata_lib`."
   ]
  },
  {
   "cell_type": "code",
   "execution_count": 1,
   "metadata": {},
   "outputs": [
    {
     "name": "stdout",
     "output_type": "stream",
     "text": [
      "Welcome to JupyROOT 6.28/06\n"
     ]
    },
    {
     "name": "stderr",
     "output_type": "stream",
     "text": [
      "Info in <TCanvas::Print>: png file plots/correlation.png has been created\n"
     ]
    }
   ],
   "source": [
    "import numpy as np\n",
    "import ROOT as r\n",
    "\n",
    "# Create and fill histogram\n",
    "nbins = 5\n",
    "h2d = r.TH2D(\"correlation\", \"correlation\", nbins, 0.5, nbins+0.5, nbins, 0.5, nbins+0.5)\n",
    "for i in range(1,nbins+1):\n",
    "    for j in range(1,nbins+1):\n",
    "        h2d.Fill(i, j, np.exp(-(i-j)**2))\n",
    "\n",
    "# Save output\n",
    "f = r.TFile(\"correlation.root\",\"RECREATE\")\n",
    "h2d.Write()\n",
    "f.Close()\n",
    "\n",
    "# Plot for your convenience\n",
    "c1 = r.TCanvas()\n",
    "h2d.Draw(\"COLZ,TEXT\")\n",
    "c1.SaveAs(\"plots/correlation.png\")"
   ]
  },
  {
   "cell_type": "markdown",
   "metadata": {},
   "source": [
    "The input histogram looks like this:\n",
    "<img src=\"./plots/correlation.png\" width=\"450\">"
   ]
  },
  {
   "cell_type": "markdown",
   "metadata": {},
   "source": [
    "## Reading the histogram into python\n",
    "Now that we have our example input, let's read it back. Reading from ROOT files into python is performed by the `RootFileReader` class."
   ]
  },
  {
   "cell_type": "code",
   "execution_count": 2,
   "metadata": {
    "scrolled": true
   },
   "outputs": [],
   "source": [
    "from hepdata_lib import RootFileReader\n",
    "\n",
    "# Create a reader for the input file\n",
    "reader = RootFileReader(\"correlation.root\")\n",
    "\n",
    "# Read the histogram, \"correlation\" is the histogram name\n",
    "data = reader.read_hist_2d(\"correlation\")\n"
   ]
  },
  {
   "cell_type": "markdown",
   "metadata": {},
   "source": [
    "The data read out of the histogram is returned as a dictionary:"
   ]
  },
  {
   "cell_type": "code",
   "execution_count": 3,
   "metadata": {},
   "outputs": [
    {
     "data": {
      "text/plain": [
       "dict_keys(['x', 'y', 'x_edges', 'y_edges', 'z', 'dz', 'x_labels', 'y_labels'])"
      ]
     },
     "execution_count": 3,
     "metadata": {},
     "output_type": "execute_result"
    }
   ],
   "source": [
    "data.keys()"
   ]
  },
  {
   "cell_type": "markdown",
   "metadata": {},
   "source": [
    "The values for each key are just lists of numbers:"
   ]
  },
  {
   "cell_type": "code",
   "execution_count": 4,
   "metadata": {},
   "outputs": [
    {
     "data": {
      "text/plain": [
       "[1.0,\n",
       " 1.0,\n",
       " 1.0,\n",
       " 1.0,\n",
       " 1.0,\n",
       " 2.0,\n",
       " 2.0,\n",
       " 2.0,\n",
       " 2.0,\n",
       " 2.0,\n",
       " 3.0,\n",
       " 3.0,\n",
       " 3.0,\n",
       " 3.0,\n",
       " 3.0,\n",
       " 4.0,\n",
       " 4.0,\n",
       " 4.0,\n",
       " 4.0,\n",
       " 4.0,\n",
       " 5.0,\n",
       " 5.0,\n",
       " 5.0,\n",
       " 5.0,\n",
       " 5.0]"
      ]
     },
     "execution_count": 4,
     "metadata": {},
     "output_type": "execute_result"
    }
   ],
   "source": [
    "data[\"x\"]"
   ]
  },
  {
   "cell_type": "markdown",
   "metadata": {},
   "source": [
    "Or lists of tuples with the upper/lower boundaries of each bin:"
   ]
  },
  {
   "cell_type": "code",
   "execution_count": 5,
   "metadata": {},
   "outputs": [
    {
     "data": {
      "text/plain": [
       "[(0.5, 1.5),\n",
       " (0.5, 1.5),\n",
       " (0.5, 1.5),\n",
       " (0.5, 1.5),\n",
       " (0.5, 1.5),\n",
       " (1.5, 2.5),\n",
       " (1.5, 2.5),\n",
       " (1.5, 2.5),\n",
       " (1.5, 2.5),\n",
       " (1.5, 2.5),\n",
       " (2.5, 3.5),\n",
       " (2.5, 3.5),\n",
       " (2.5, 3.5),\n",
       " (2.5, 3.5),\n",
       " (2.5, 3.5),\n",
       " (3.5, 4.5),\n",
       " (3.5, 4.5),\n",
       " (3.5, 4.5),\n",
       " (3.5, 4.5),\n",
       " (3.5, 4.5),\n",
       " (4.5, 5.5),\n",
       " (4.5, 5.5),\n",
       " (4.5, 5.5),\n",
       " (4.5, 5.5),\n",
       " (4.5, 5.5)]"
      ]
     },
     "execution_count": 5,
     "metadata": {},
     "output_type": "execute_result"
    }
   ],
   "source": [
    "data[\"x_edges\"]"
   ]
  },
  {
   "cell_type": "markdown",
   "metadata": {},
   "source": [
    "In any case, you do not have to worry too much about the format, because we will directly feed these numbers into the Variable objects for our HEPData entry, just as we would do in the other examples."
   ]
  },
  {
   "cell_type": "markdown",
   "metadata": {},
   "source": [
    "## Writing the matrix into a HEPData entry\n",
    "\n",
    "This part is rather straightforward: We create independent `Variables` to represent the x and y axes, and a dependent `Variable` to hold the actual correlation values in each bin."
   ]
  },
  {
   "cell_type": "code",
   "execution_count": 6,
   "metadata": {},
   "outputs": [],
   "source": [
    "from hepdata_lib import Submission, Variable, Table\n",
    "\n",
    "# Create variable objects\n",
    "x = Variable(\"First Bin\", is_independent=True, is_binned=False)\n",
    "x.values = data[\"x\"]\n",
    "\n",
    "y = Variable(\"Second Bin\", is_independent=True, is_binned=False)\n",
    "y.values = data[\"y\"]\n",
    "\n",
    "correlation = Variable(\"Correlation coefficient\", is_independent=False, is_binned=False)\n",
    "correlation.values = data[\"z\"]\n"
   ]
  },
  {
   "cell_type": "markdown",
   "metadata": {},
   "source": [
    "Here, we chose to define the x/y `Variables` as unbinned, but we could equally well have defined them to be binned. In that case, we would have to feed the `x_edges` and `y_edges` lists into the Variable rather than the bin centers.\n",
    "\n",
    "Finally, as always, we add the `Variables` to a `Table`, add the `Table` to a `Submission` and create the output files."
   ]
  },
  {
   "cell_type": "code",
   "execution_count": 7,
   "metadata": {},
   "outputs": [
    {
     "name": "stdout",
     "output_type": "stream",
     "text": [
      "-rw-r--r--  1 watt  staff  4820 13 Oct 19:14 submission.tar.gz\n"
     ]
    }
   ],
   "source": [
    "# Create the table object and add the variables\n",
    "table = Table(\"Correlation coefficients between signal region bins\")\n",
    "for var in [x,y,correlation]:\n",
    "    table.add_variable(var)\n",
    "table.add_additional_resource(\"ROOT file\", \"correlation.root\", copy_file=True)  # optional\n",
    "\n",
    "# Create the submission object and write output\n",
    "sub = Submission()\n",
    "sub.add_table(table)\n",
    "sub.create_files(\"./output/\", remove_old=True)\n",
    "\n",
    "!ls -l submission.tar.gz"
   ]
  },
  {
   "cell_type": "markdown",
   "metadata": {},
   "source": [
    "That's it! The `submission.tar.gz` file can immediately be uploaded to your [HEPData sandbox](https://www.hepdata.net/record/sandbox). You can also check out the already uploaded version [here](https://www.hepdata.net/record/sandbox/1554305576). In the sandbox, HEPData shows you a rendered version of your data, which you can compare to our initial plot above."
   ]
  }
 ],
 "metadata": {
  "kernelspec": {
   "display_name": "Python 3 (ipykernel)",
   "language": "python",
   "name": "python3"
  },
  "language_info": {
   "codemirror_mode": {
    "name": "ipython",
    "version": 3
   },
   "file_extension": ".py",
   "mimetype": "text/x-python",
   "name": "python",
   "nbconvert_exporter": "python",
   "pygments_lexer": "ipython3",
   "version": "3.11.6"
  }
 },
 "nbformat": 4,
 "nbformat_minor": 4
}
